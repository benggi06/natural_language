{
 "cells": [
  {
   "cell_type": "code",
   "execution_count": 1,
   "id": "05f2078f",
   "metadata": {},
   "outputs": [],
   "source": [
    "# 가지고 있는 데이터에서 유의미한 토큰만을 선별하려면 큰 의미 없는 단어\n",
    "# 토큰을 제거하는 것도 중요함 \n",
    "# 여기서 의미가 없다는 것은 자주 등장하지만 분석에 무의미한 단어들을 말함\n",
    "\n",
    "# 이 단어들을 불용어(stopword)라고함\n"
   ]
  },
  {
   "cell_type": "code",
   "execution_count": 2,
   "id": "3c001b92",
   "metadata": {},
   "outputs": [
    {
     "name": "stdout",
     "output_type": "stream",
     "text": [
      "stop word count: 179\n",
      "10 stop word: ['i', 'me', 'my', 'myself', 'we', 'our', 'ours', 'ourselves', 'you', \"you're\"]\n"
     ]
    }
   ],
   "source": [
    "from nltk.corpus import stopwords #불용어\n",
    "from nltk.tokenize import word_tokenize #토큰화\n",
    "from konlpy.tag import Okt #한국어 토큰화\n",
    "\n",
    "stop_words_list = stopwords.words('english')\n",
    "print('stop word count:',len(stop_words_list))\n",
    "print('10 stop word:',stop_words_list[:10])\n",
    "\n"
   ]
  },
  {
   "cell_type": "code",
   "execution_count": 3,
   "id": "c76d6928",
   "metadata": {},
   "outputs": [
    {
     "name": "stdout",
     "output_type": "stream",
     "text": [
      "All stop word: ['i', 'me', 'my', 'myself', 'we', 'our', 'ours', 'ourselves', 'you', \"you're\", \"you've\", \"you'll\", \"you'd\", 'your', 'yours', 'yourself', 'yourselves', 'he', 'him', 'his', 'himself', 'she', \"she's\", 'her', 'hers', 'herself', 'it', \"it's\", 'its', 'itself', 'they', 'them', 'their', 'theirs', 'themselves', 'what', 'which', 'who', 'whom', 'this', 'that', \"that'll\", 'these', 'those', 'am', 'is', 'are', 'was', 'were', 'be', 'been', 'being', 'have', 'has', 'had', 'having', 'do', 'does', 'did', 'doing', 'a', 'an', 'the', 'and', 'but', 'if', 'or', 'because', 'as', 'until', 'while', 'of', 'at', 'by', 'for', 'with', 'about', 'against', 'between', 'into', 'through', 'during', 'before', 'after', 'above', 'below', 'to', 'from', 'up', 'down', 'in', 'out', 'on', 'off', 'over', 'under', 'again', 'further', 'then', 'once', 'here', 'there', 'when', 'where', 'why', 'how', 'all', 'any', 'both', 'each', 'few', 'more', 'most', 'other', 'some', 'such', 'no', 'nor', 'not', 'only', 'own', 'same', 'so', 'than', 'too', 'very', 's', 't', 'can', 'will', 'just', 'don', \"don't\", 'should', \"should've\", 'now', 'd', 'll', 'm', 'o', 're', 've', 'y', 'ain', 'aren', \"aren't\", 'couldn', \"couldn't\", 'didn', \"didn't\", 'doesn', \"doesn't\", 'hadn', \"hadn't\", 'hasn', \"hasn't\", 'haven', \"haven't\", 'isn', \"isn't\", 'ma', 'mightn', \"mightn't\", 'mustn', \"mustn't\", 'needn', \"needn't\", 'shan', \"shan't\", 'shouldn', \"shouldn't\", 'wasn', \"wasn't\", 'weren', \"weren't\", 'won', \"won't\", 'wouldn', \"wouldn't\"]\n"
     ]
    }
   ],
   "source": [
    "# nltk 에서 정의한 불용어를 확인할 수 있음\n",
    "print('All stop word:',stop_words_list)"
   ]
  },
  {
   "cell_type": "code",
   "execution_count": 5,
   "id": "f741a662",
   "metadata": {},
   "outputs": [
    {
     "name": "stdout",
     "output_type": "stream",
     "text": [
      "before remove stop word: ['Family', 'is', 'not', 'an', 'important', 'thing', '.', 'It', \"'s\", 'everything', '.'] \n",
      "\n",
      "after remove stop word: ['Family', 'important', 'thing', '.', 'It', \"'s\", 'everything', '.']\n"
     ]
    }
   ],
   "source": [
    "#불용어 제거\n",
    "example = \"Family is not an important thing. It's everything.\"\n",
    "stop_words = set(stopwords.words('english'))#불용어 집합 생성\n",
    "\n",
    "word_tokens = word_tokenize(example)#문장 토큰화\n",
    "\n",
    "result = []# 빈 리스트 생성\n",
    "for word in word_tokens: \n",
    "    if word not in stop_words:# 토큰들이 불용어 집합에 있지 않으면 결과 리스트에 추가\n",
    "        result.append(word)\n",
    "        \n",
    "print('before remove stop word:',word_tokens,'\\n')\n",
    "print('after remove stop word:',result)"
   ]
  },
  {
   "cell_type": "code",
   "execution_count": 6,
   "id": "ae08607e",
   "metadata": {},
   "outputs": [],
   "source": [
    "#is not an 제거됨"
   ]
  },
  {
   "cell_type": "code",
   "execution_count": 9,
   "id": "38e4e580",
   "metadata": {},
   "outputs": [
    {
     "name": "stdout",
     "output_type": "stream",
     "text": [
      "불용어 제거 전: ['고기', '를', '아무렇게나', '구', '우려', '고', '하면', '안', '돼', '.', '고기', '라고', '다', '같은', '게', '아니거든', '.', '예컨대', '삼겹살', '을', '구울', '때', '는', '중요한', '게', '있지', '.'] \n",
      "\n",
      "불용어 제거 후: ['고기', '하면', '.', '고기', '라고', '다', '아니거든', '.', '예컨대', '삼겹살', '을', '중요한', '있지', '.']\n",
      "['고기', '를', '아무렇게나', '구', '우려', '고', '하면', '안', '돼', '.', '고기', '라고', '다', '같은', '게', '아니거든', '.', '예컨대', '삼겹살', '을', '구울', '때', '는', '중요한', '게', '있지', '.']\n"
     ]
    }
   ],
   "source": [
    "# 한국어 불용어 제거 방법으로 토큰화 후 조사, 접속사등을 제거\n",
    "\n",
    "okt = Okt()\n",
    "example = example = \"고기를 아무렇게나 구우려고 하면 안 돼. 고기라고 다 같은 게 아니거든. 예컨대 삼겹살을 구울 때는 중요한 게 있지.\"\n",
    "stop_words = \"를 아무렇게나 구 우려 고 안 돼 같은 게 구울 때 는\" #불용어 정의\n",
    "\n",
    "stop_words = set(stop_words.split(' '))#불용어를 띄어쓰기 기준으로 나눠 집합으로 만듬\n",
    "word_tokens = okt.morphs(example)# 형태소 단위로 나눔\n",
    "\n",
    "result = [word for word in word_tokens if not word in stop_words]\n",
    "\n",
    "print('불용어 제거 전:',word_tokens,'\\n')\n",
    "print('불용어 제거 후:',result)\n"
   ]
  },
  {
   "cell_type": "code",
   "execution_count": null,
   "id": "79895fb7",
   "metadata": {},
   "outputs": [],
   "source": []
  }
 ],
 "metadata": {
  "kernelspec": {
   "display_name": "Python 3 (ipykernel)",
   "language": "python",
   "name": "python3"
  },
  "language_info": {
   "codemirror_mode": {
    "name": "ipython",
    "version": 3
   },
   "file_extension": ".py",
   "mimetype": "text/x-python",
   "name": "python",
   "nbconvert_exporter": "python",
   "pygments_lexer": "ipython3",
   "version": "3.9.12"
  }
 },
 "nbformat": 4,
 "nbformat_minor": 5
}
