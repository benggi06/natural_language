{
 "cells": [
  {
   "cell_type": "code",
   "execution_count": 1,
   "id": "892f55c9",
   "metadata": {},
   "outputs": [],
   "source": [
    "# 토큰화: \n",
    "#     크롤링으로 얻어낸 데이터를 필요에 맞게 전처리하는 과정중 하나"
   ]
  },
  {
   "cell_type": "code",
   "execution_count": 2,
   "id": "1ab9472d",
   "metadata": {},
   "outputs": [],
   "source": [
    "# 1. 단어 토큰화:\n",
    "#     토큰의 기준을 단어로 하는 경우 여기서 단어란 단어 외에도\n",
    "#     단어구, 의미를 갖는 문자열로 간주되기도 함\n",
    "# 보통의 토큰화 작업은 구두점이나 특수문자를 전부 제거하는 \n",
    "# 정제(cleaning) 작업으로 해결 x 전부 제거해 버릴시 토큰이 의미를\n",
    "# 잃기도 함 띄어쓰기 단위로 자르면 단어 토큰이 구분되는 영어와 달리\n",
    "# 한국어는 띄어쓰기만으로 단어 토큰을 구분하기 어려움"
   ]
  },
  {
   "cell_type": "code",
   "execution_count": 1,
   "id": "a3000cc1",
   "metadata": {},
   "outputs": [],
   "source": [
    "# ' 아포스트로피가 들어간 상황 토큰화\n",
    "from nltk.tokenize import word_tokenize\n",
    "from nltk.tokenize import WordPunctTokenizer\n",
    "from tensorflow.keras.preprocessing.text import text_to_word_sequence"
   ]
  },
  {
   "cell_type": "code",
   "execution_count": 6,
   "id": "44d3f446",
   "metadata": {},
   "outputs": [
    {
     "name": "stdout",
     "output_type": "stream",
     "text": [
      "단어 토큰화1 : ['Do', \"n't\", 'be', 'fooled', 'by', 'the', 'dark', 'sounding', 'name', ',', 'Mr.', 'Jone', \"'s\", 'Orphanage', 'is', 'as', 'cheery', 'as', 'cheery', 'goes', 'for', 'a', 'pastry', 'shop', '.']\n"
     ]
    }
   ],
   "source": [
    "#word_tokenize 사용\n",
    "print('단어 토큰화1 :',word_tokenize(\"Don't be fooled by the dark sounding name, Mr. Jone's Orphanage is as cheery as cheery goes for a pastry shop.\"))"
   ]
  },
  {
   "cell_type": "code",
   "execution_count": 7,
   "id": "850151d4",
   "metadata": {},
   "outputs": [
    {
     "name": "stdout",
     "output_type": "stream",
     "text": [
      "단어 토큰화2 : ['Don', \"'\", 't', 'be', 'fooled', 'by', 'the', 'dark', 'sounding', 'name', ',', 'Mr', '.', 'Jone', \"'\", 's', 'Orphanage', 'is', 'as', 'cheery', 'as', 'cheery', 'goes', 'for', 'a', 'pastry', 'shop', '.']\n"
     ]
    }
   ],
   "source": [
    "#wordPunctTokenizer 사용\n",
    "print('단어 토큰화2 :',WordPunctTokenizer().tokenize(\"Don't be fooled by the dark sounding name, Mr. Jone's Orphanage is as cheery as cheery goes for a pastry shop.\"))"
   ]
  },
  {
   "cell_type": "code",
   "execution_count": 8,
   "id": "36be8c1d",
   "metadata": {},
   "outputs": [],
   "source": [
    "#WordPunctTokenizer은 구두점을 별도로 분류하는 특성을 가짐 "
   ]
  },
  {
   "cell_type": "code",
   "execution_count": 9,
   "id": "b203977d",
   "metadata": {},
   "outputs": [
    {
     "name": "stdout",
     "output_type": "stream",
     "text": [
      "단어 토큰화3 : [\"don't\", 'be', 'fooled', 'by', 'the', 'dark', 'sounding', 'name', 'mr', \"jone's\", 'orphanage', 'is', 'as', 'cheery', 'as', 'cheery', 'goes', 'for', 'a', 'pastry', 'shop']\n"
     ]
    }
   ],
   "source": [
    "# keras text_to_word_sequence 사용\n",
    "print('단어 토큰화3 :',text_to_word_sequence(\"Don't be fooled by the dark sounding name, Mr. Jone's Orphanage is as cheery as cheery goes for a pastry shop.\"))"
   ]
  },
  {
   "cell_type": "code",
   "execution_count": 10,
   "id": "62cf5f65",
   "metadata": {},
   "outputs": [],
   "source": [
    "#. , ! 등의 구두점은 제거하지만 아포스트로피는 보존함 \n",
    "# 그리고 알파벳을 모두 소문자로 변경함"
   ]
  },
  {
   "cell_type": "code",
   "execution_count": 2,
   "id": "2f112edb",
   "metadata": {},
   "outputs": [],
   "source": [
    "# 3. 토큰화시 고려해야할 사항:\n",
    "#     1. 보유한 코퍼스에서 단어를 거를때 구두점 및 특수문자를 \n",
    "#     제거하는 것은 옳지 않음, 예를 들어 \n",
    "#     마침표로 문장의 경계를 알수 있기 때문이기도 하고 또한 단어\n",
    "#     자체에 마침표 ex) ph.D 등의 단어도 있기 때문 등등 다양함\n",
    "    \n",
    "#     2.줄임말과 단어내 띄어쓰기가 있는 경우\n",
    "#     what're 은 what are 의 줄임말이고 이때 re를 접어(clitic) 라고 함\n",
    "#     New York는 하나의 단어지만 띄어쓰기가 존재 \n",
    "#     이 점들의 유의해야함"
   ]
  },
  {
   "cell_type": "code",
   "execution_count": 3,
   "id": "d2c6305c",
   "metadata": {},
   "outputs": [],
   "source": [
    "# Peen Treebank Tokenization 규칙\n",
    "# 1. 하이푼(-)으로 구성된 단어는 하나로 유지\n",
    "# 2. doesn't 같이 아포스트로피로 접어가 함께하는 단어는 분리\n",
    "\n",
    "#Ex)\n",
    "\n",
    "from nltk.tokenize import TreebankWordTokenizer"
   ]
  },
  {
   "cell_type": "code",
   "execution_count": 5,
   "id": "166e2c00",
   "metadata": {},
   "outputs": [
    {
     "name": "stdout",
     "output_type": "stream",
     "text": [
      "['Starting', 'a', 'home-based', 'restaurant', 'may', 'be', 'an', 'ideal.', 'it', 'does', \"n't\", 'have', 'a', 'food', 'chain', 'or', 'restaurant', 'of', 'their', 'own', '.']\n"
     ]
    }
   ],
   "source": [
    "tokenizer = TreebankWordTokenizer()\n",
    "\n",
    "text =  \"Starting a home-based restaurant may be an ideal. it doesn't have a food chain or restaurant of their own.\"\n",
    "print(tokenizer.tokenize(text))\n",
    "#does 와 n't 분리 확인"
   ]
  },
  {
   "cell_type": "code",
   "execution_count": 7,
   "id": "8a8cb70a",
   "metadata": {},
   "outputs": [],
   "source": [
    "# 4. 문장 토큰화(Sentence tokenization):\n",
    "#     이 작업은 코퍼스 내의 문장단위로 구분하는 작업으로 때론\n",
    "#     문장 분류(Sentence segmentation) 라고도 부름\n",
    "#     코퍼스가 정제되지 않은 상태면 코퍼스는 문장 단위로 구분 되어\n",
    "#     있지 않아 용도에 맞게 문장 토큰화가 필요"
   ]
  },
  {
   "cell_type": "code",
   "execution_count": 8,
   "id": "f52031c2",
   "metadata": {},
   "outputs": [],
   "source": [
    "from nltk.tokenize import sent_tokenize"
   ]
  },
  {
   "cell_type": "code",
   "execution_count": 9,
   "id": "2b211525",
   "metadata": {},
   "outputs": [
    {
     "name": "stdout",
     "output_type": "stream",
     "text": [
      "문장 토큰화1 : ['His barber kept his word.', 'But keeping such a huge secret to himself was driving him crazy.', 'Finally, the barber went up a mountain and almost to the edge of a cliff.', 'He dug a hole in the midst of some reeds.', 'He looked about, to make sure no one was near.']\n"
     ]
    }
   ],
   "source": [
    "text = \"His barber kept his word. But keeping such a huge secret to himself was driving him crazy. Finally, the barber went up a mountain and almost to the edge of a cliff. He dug a hole in the midst of some reeds. He looked about, to make sure no one was near.\"\n",
    "print('문장 토큰화1 :',sent_tokenize(text))"
   ]
  },
  {
   "cell_type": "code",
   "execution_count": 10,
   "id": "92526ad2",
   "metadata": {},
   "outputs": [],
   "source": [
    "# 문장들이 토큰화 된것을 볼 수 있음"
   ]
  },
  {
   "cell_type": "code",
   "execution_count": 11,
   "id": "3f34c6ef",
   "metadata": {},
   "outputs": [
    {
     "name": "stdout",
     "output_type": "stream",
     "text": [
      "문장 토큰화2 : ['I am actively looking for Ph.D. students.', 'and you are a Ph.D student.']\n"
     ]
    }
   ],
   "source": [
    "text = \"I am actively looking for Ph.D. students. and you are a Ph.D student.\"\n",
    "print('문장 토큰화2 :',sent_tokenize(text))"
   ]
  },
  {
   "cell_type": "code",
   "execution_count": 12,
   "id": "52a2d4c8",
   "metadata": {},
   "outputs": [],
   "source": [
    "# .이 문장의 마침이 아닌데도 성공적으로 토큰화 "
   ]
  },
  {
   "cell_type": "code",
   "execution_count": 11,
   "id": "89779e5e",
   "metadata": {},
   "outputs": [
    {
     "name": "stdout",
     "output_type": "stream",
     "text": [
      "Requirement already satisfied: kss in c:\\users\\lg435\\anaconda3\\lib\\site-packages (4.5.1)Note: you may need to restart the kernel to use updated packages.\n",
      "\n",
      "Requirement already satisfied: emoji==1.2.0 in c:\\users\\lg435\\anaconda3\\lib\\site-packages (from kss) (1.2.0)\n",
      "Requirement already satisfied: regex in c:\\users\\lg435\\anaconda3\\lib\\site-packages (from kss) (2022.7.9)\n",
      "Requirement already satisfied: pecab in c:\\users\\lg435\\anaconda3\\lib\\site-packages (from kss) (1.0.8)\n",
      "Requirement already satisfied: networkx in c:\\users\\lg435\\anaconda3\\lib\\site-packages (from kss) (2.8.4)\n",
      "Requirement already satisfied: pytest in c:\\users\\lg435\\anaconda3\\lib\\site-packages (from pecab->kss) (7.1.2)\n",
      "Requirement already satisfied: pyarrow in c:\\users\\lg435\\anaconda3\\lib\\site-packages (from pecab->kss) (11.0.0)\n",
      "Requirement already satisfied: numpy in c:\\users\\lg435\\anaconda3\\lib\\site-packages (from pecab->kss) (1.23.4)\n",
      "Requirement already satisfied: attrs>=19.2.0 in c:\\users\\lg435\\anaconda3\\lib\\site-packages (from pytest->pecab->kss) (22.1.0)\n",
      "Requirement already satisfied: iniconfig in c:\\users\\lg435\\anaconda3\\lib\\site-packages (from pytest->pecab->kss) (1.1.1)\n",
      "Requirement already satisfied: packaging in c:\\users\\lg435\\anaconda3\\lib\\site-packages (from pytest->pecab->kss) (21.3)\n",
      "Requirement already satisfied: pluggy<2.0,>=0.12 in c:\\users\\lg435\\anaconda3\\lib\\site-packages (from pytest->pecab->kss) (1.0.0)\n",
      "Requirement already satisfied: py>=1.8.2 in c:\\users\\lg435\\anaconda3\\lib\\site-packages (from pytest->pecab->kss) (1.11.0)\n",
      "Requirement already satisfied: tomli>=1.0.0 in c:\\users\\lg435\\anaconda3\\lib\\site-packages (from pytest->pecab->kss) (2.0.1)\n",
      "Requirement already satisfied: atomicwrites>=1.0 in c:\\users\\lg435\\anaconda3\\lib\\site-packages (from pytest->pecab->kss) (1.4.0)\n",
      "Requirement already satisfied: colorama in c:\\users\\lg435\\appdata\\roaming\\python\\python39\\site-packages (from pytest->pecab->kss) (0.4.5)\n",
      "Requirement already satisfied: pyparsing!=3.0.5,>=2.0.2 in c:\\users\\lg435\\anaconda3\\lib\\site-packages (from packaging->pytest->pecab->kss) (3.0.9)\n"
     ]
    }
   ],
   "source": [
    "pip install kss"
   ]
  },
  {
   "cell_type": "code",
   "execution_count": 15,
   "id": "f822165d",
   "metadata": {},
   "outputs": [],
   "source": [
    "import kss"
   ]
  },
  {
   "cell_type": "code",
   "execution_count": 16,
   "id": "12854697",
   "metadata": {},
   "outputs": [
    {
     "name": "stderr",
     "output_type": "stream",
     "text": [
      "[Kss]: Because there's no supported C++ morpheme analyzer, Kss will take pecab as a backend. :D\n",
      "For your information, Kss also supports mecab backend.\n",
      "We recommend you to install mecab or konlpy.tag.Mecab for faster execution of Kss.\n",
      "Please refer to following web sites for details:\n",
      "- mecab: https://cleancode-ws.tistory.com/97\n",
      "- konlpy.tag.Mecab: https://uwgdqo.tistory.com/363\n",
      "\n"
     ]
    },
    {
     "name": "stdout",
     "output_type": "stream",
     "text": [
      "한국어 문장 토큰화 : ['딥 러닝 자연어 처리가 재미있기는 합니다.', '그런데 문제는 영어보다 한국어로 할 때 너무 어렵습니다.', '이제 해보면 알걸요?']\n"
     ]
    }
   ],
   "source": [
    "text = '딥 러닝 자연어 처리가 재미있기는 합니다. 그런데 문제는 영어보다 한국어로 할 때 너무 어렵습니다. 이제 해보면 알걸요?'\n",
    "print('한국어 문장 토큰화 :',kss.split_sentences(text))"
   ]
  },
  {
   "cell_type": "code",
   "execution_count": 17,
   "id": "213aecff",
   "metadata": {},
   "outputs": [],
   "source": [
    "#문장별로 토큰화 성공"
   ]
  },
  {
   "cell_type": "code",
   "execution_count": 4,
   "id": "1662e25d",
   "metadata": {},
   "outputs": [],
   "source": [
    "# 한국어 토큰화의 어려움:\n",
    "#     영어는 he's같은 줄임말에 대해 예외처리와 띄어쓰기를 기준으로\n",
    "#     하는 토큰화를 수행해도 단어 토큰화가 잘 작동-> 대부분이 단어\n",
    "#     단위로 띄어쓰기가 이루어지기 때문에 띄어쓰기 토큰화와 단어\n",
    "#     토큰화가 비슷함\n",
    "    \n",
    "#     한국어의 경우 띄어쓰기 단위를 어절이라고 함 어절 토큰은\n",
    "#     한국어 NLP 에서 지향되는데 어절 토큰화와 단어 토큰화가 같지\n",
    "#     않기 때문임 근본적 이유는 한국어와 영어가 다른 형태를 가지는\n",
    "#     교착어기 때문 교착어란 조사, 어미 등을 붙여 만드는 말\n",
    "\n",
    "# 1. 교착어의 특성\n",
    "# 영어와 달리 한국어에는 조사가 존재, 같은 단어임에도 다른조사가 붙어\n",
    "# 다른 단어로 인식됨. 그래서 대부분 한국어 NLP에서는 조사 분리가 필요\n",
    "\n",
    "# 형태소(morpheme)란 뜻을 가진 가장 작은 말의 단위를 의미 형태소에는\n",
    "# 두가지가 있는데.\n",
    "\n",
    "# 자립 형태소: 접사, 어미, 조사와 상과없이 자립하여 사용할수 있는\n",
    "#     형태소, 그 자체로 단어가 됨 체언(명사, 대명사, 수사), 수식언\n",
    "#     (관형사, 부사), 감탄사 등이 있음\n",
    "    \n",
    "# 의존 형태소: 다른 형태소와 결합하여 사용되는 형태소, 접사, 어미, 조사,\n",
    "#     어간을 말함\n",
    "\n",
    "# 2. 띄어쓰기가 잘 지켜지지 않음: 한국어는 띄어쓰기가 없더라도\n",
    "#     이해하기가 쉽기 때문에 수많은 코퍼스에서 띄어쓰기가 무시되는\n",
    "#     경우가 많아 자연어 처리에 어려움을 겪음"
   ]
  },
  {
   "cell_type": "code",
   "execution_count": 5,
   "id": "23a9183c",
   "metadata": {},
   "outputs": [],
   "source": [
    "# 품사 태깅: 단어는 같지만 품사에 따라서 의미가 달라지기도 함\n",
    "#     fly라는 단어는 날다 라는 뜻도 있지만 파리라는 의미도 있음\n",
    "#     따라서 토큰화 과정시 단어가 어떤 품사로 쓰였는지 구분하는 과정을\n",
    "#     품사 태깅이라고 함 \n",
    "#     (part of speech tagging)"
   ]
  },
  {
   "cell_type": "code",
   "execution_count": 6,
   "id": "e27581f5",
   "metadata": {},
   "outputs": [
    {
     "name": "stdout",
     "output_type": "stream",
     "text": [
      "단어 토큰화 ['I', 'am', 'actively', 'looking', 'for', 'Ph.D.', 'students', '.', 'and', 'you', 'are', 'a', 'Ph.D.', 'student', '.']\n",
      "품사 태깅 [('I', 'PRP'), ('am', 'VBP'), ('actively', 'RB'), ('looking', 'VBG'), ('for', 'IN'), ('Ph.D.', 'NNP'), ('students', 'NNS'), ('.', '.'), ('and', 'CC'), ('you', 'PRP'), ('are', 'VBP'), ('a', 'DT'), ('Ph.D.', 'NNP'), ('student', 'NN'), ('.', '.')]\n"
     ]
    }
   ],
   "source": [
    "#품사 태깅\n",
    "from nltk.tokenize import word_tokenize\n",
    "from nltk.tag import pos_tag\n",
    "\n",
    "text = \"I am actively looking for Ph.D. students. and you are a Ph.D. student.\"\n",
    "\n",
    "tokenized_sentence = word_tokenize(text)\n",
    "\n",
    "print('단어 토큰화', tokenized_sentence)\n",
    "print('품사 태깅', pos_tag(tokenized_sentence))"
   ]
  },
  {
   "cell_type": "code",
   "execution_count": 7,
   "id": "88ec9917",
   "metadata": {},
   "outputs": [],
   "source": [
    "# PRP: 인칭 대명사\n",
    "# VBP: 동사\n",
    "# RB: 부사\n",
    "# VBG: 현재부사\n",
    "# IN: 전치사\n",
    "# NNP: 고유 명사\n",
    "# NNS 복수형 명사\n",
    "# CC: 접속사\n",
    "# DT: 관사"
   ]
  },
  {
   "cell_type": "code",
   "execution_count": 1,
   "id": "b51b6ad1",
   "metadata": {},
   "outputs": [
    {
     "name": "stdout",
     "output_type": "stream",
     "text": [
      "Requirement already satisfied: konlpy in c:\\users\\lg435\\anaconda3\\lib\\site-packages (0.6.0)\n",
      "Requirement already satisfied: JPype1>=0.7.0 in c:\\users\\lg435\\anaconda3\\lib\\site-packages (from konlpy) (1.5.1)\n",
      "Requirement already satisfied: lxml>=4.1.0 in c:\\users\\lg435\\anaconda3\\lib\\site-packages (from konlpy) (4.9.1)\n",
      "Requirement already satisfied: numpy>=1.6 in c:\\users\\lg435\\anaconda3\\lib\\site-packages (from konlpy) (1.23.4)\n",
      "Requirement already satisfied: packaging in c:\\users\\lg435\\anaconda3\\lib\\site-packages (from JPype1>=0.7.0->konlpy) (21.3)\n",
      "Requirement already satisfied: pyparsing!=3.0.5,>=2.0.2 in c:\\users\\lg435\\anaconda3\\lib\\site-packages (from packaging->JPype1>=0.7.0->konlpy) (3.0.9)\n",
      "Note: you may need to restart the kernel to use updated packages.\n"
     ]
    }
   ],
   "source": [
    "pip install konlpy"
   ]
  },
  {
   "cell_type": "code",
   "execution_count": 1,
   "id": "771ef74d",
   "metadata": {},
   "outputs": [
    {
     "name": "stdout",
     "output_type": "stream",
     "text": [
      "OKT 형태소 분석 : ['열심히', '코딩', '한', '당신', ',', '연휴', '에는', '여행', '을', '가봐요']\n",
      "OKT 품사 태깅 : [('열심히', 'Adverb'), ('코딩', 'Noun'), ('한', 'Josa'), ('당신', 'Noun'), (',', 'Punctuation'), ('연휴', 'Noun'), ('에는', 'Josa'), ('여행', 'Noun'), ('을', 'Josa'), ('가봐요', 'Verb')]\n",
      "OKT 명사 추출 : ['코딩', '당신', '연휴', '여행']\n"
     ]
    }
   ],
   "source": [
    "from konlpy.tag import Okt\n",
    "from konlpy.tag import Kkma\n",
    "\n",
    "okt = Okt()\n",
    "kkma = Kkma()\n",
    "\n",
    "print('OKT 형태소 분석 :',okt.morphs(\"열심히 코딩한 당신, 연휴에는 여행을 가봐요\"))\n",
    "print('OKT 품사 태깅 :',okt.pos(\"열심히 코딩한 당신, 연휴에는 여행을 가봐요\"))\n",
    "print('OKT 명사 추출 :',okt.nouns(\"열심히 코딩한 당신, 연휴에는 여행을 가봐요\")) "
   ]
  },
  {
   "cell_type": "code",
   "execution_count": null,
   "id": "c54218c1",
   "metadata": {},
   "outputs": [],
   "source": [
    "# Error 해결 방법\n",
    "# No JVM shared library file (jvm.dll) found. Try setting up the JAVA_HOME environment variable properly.\n",
    "# 라고 뜰거임\n",
    "\n",
    "# 이 링크대로 수행 부탁\n",
    "# https://default-womyn.tistory.com/entry/konlpy-Okt-%EC%98%A4%EB%A5%98-No-JVM-shared-library-file-jvmdll-fo\n",
    "    "
   ]
  },
  {
   "cell_type": "code",
   "execution_count": 2,
   "id": "501caf43",
   "metadata": {},
   "outputs": [],
   "source": [
    "# 1. morphs: 형태소 추출\n",
    "# 2. pos: 품사 태깅\n",
    "# 3. nouns: 명사 추출"
   ]
  },
  {
   "cell_type": "code",
   "execution_count": 3,
   "id": "5f575d94",
   "metadata": {},
   "outputs": [
    {
     "name": "stdout",
     "output_type": "stream",
     "text": [
      "꼬꼬마 형태소 분석 : ['열심히', '코딩', '하', 'ㄴ', '당신', ',', '연휴', '에', '는', '여행', '을', '가보', '아요']\n",
      "꼬꼬마 품사 태깅 : [('열심히', 'MAG'), ('코딩', 'NNG'), ('하', 'XSV'), ('ㄴ', 'ETD'), ('당신', 'NP'), (',', 'SP'), ('연휴', 'NNG'), ('에', 'JKM'), ('는', 'JX'), ('여행', 'NNG'), ('을', 'JKO'), ('가보', 'VV'), ('아요', 'EFN')]\n",
      "꼬꼬마 명사 추출 : ['코딩', '당신', '연휴', '여행']\n"
     ]
    }
   ],
   "source": [
    "print('꼬꼬마 형태소 분석 :',kkma.morphs(\"열심히 코딩한 당신, 연휴에는 여행을 가봐요\"))\n",
    "print('꼬꼬마 품사 태깅 :',kkma.pos(\"열심히 코딩한 당신, 연휴에는 여행을 가봐요\"))\n",
    "print('꼬꼬마 명사 추출 :',kkma.nouns(\"열심히 코딩한 당신, 연휴에는 여행을 가봐요\"))  "
   ]
  },
  {
   "cell_type": "code",
   "execution_count": null,
   "id": "39c3df0d",
   "metadata": {},
   "outputs": [],
   "source": []
  }
 ],
 "metadata": {
  "kernelspec": {
   "display_name": "Python 3 (ipykernel)",
   "language": "python",
   "name": "python3"
  },
  "language_info": {
   "codemirror_mode": {
    "name": "ipython",
    "version": 3
   },
   "file_extension": ".py",
   "mimetype": "text/x-python",
   "name": "python",
   "nbconvert_exporter": "python",
   "pygments_lexer": "ipython3",
   "version": "3.9.12"
  }
 },
 "nbformat": 4,
 "nbformat_minor": 5
}
