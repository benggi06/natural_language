{
 "cells": [
  {
   "cell_type": "code",
   "execution_count": 1,
   "id": "3ef7729e",
   "metadata": {},
   "outputs": [],
   "source": [
    "# 정제: 토큰화 작업 전후에 텍스트 데이터를 용도에 맞게 정제(cleaning)\n",
    "#     및 정규화(nomalization) 이 동반 되어야 함\n",
    "    \n",
    "# 목적\n",
    "\n",
    "# 정제: 코퍼스로부터 노이즈 데이터 제거\n",
    "\n",
    "# 정규화: 표현 방법이 다른 단어들을 통합시켜 같은단어로 만듬\n",
    "    \n",
    "# 정제 작업은 토큰화 작업에 방해 되는 부분을 배제시키기 위해 토큰화에\n",
    "# 앞서 이루어지기도 하지만 토큰화 이후 남아있는 노이즈 제거를 위해\n",
    "# 지속적으로 이루어지기도 함\n",
    "\n",
    "# 완벽한 정제 작업은 어려워서 대부분 합의점을 찾음"
   ]
  },
  {
   "cell_type": "code",
   "execution_count": 2,
   "id": "5a2f6a42",
   "metadata": {},
   "outputs": [],
   "source": [
    "# 1. 규칙에 기반한 표기가 다른 단어의 통합:\n",
    "#     필요에 따라 직접 코딩을 통해 정의할 수 있는 정규화 규칙 예로\n",
    "#     같은 의미, 다른 표기의 단어들을 하나의 단어로 정규화하는 방법\n",
    "#     사용가능\n",
    "    \n",
    "#     Ex)USA, US라는 단어는 같은 의미를 가지므로 하나로 정규화 가능\n",
    "    "
   ]
  },
  {
   "cell_type": "code",
   "execution_count": 3,
   "id": "049f8362",
   "metadata": {},
   "outputs": [],
   "source": [
    "# 2. 대, 소문자 통합: 영어권에서 대문자는 문장의 시작과 같은 특정\n",
    "#     상황에서만 사용되기에 대부분은 소문자로 변환하는 소문자 변환\n",
    "#     작업으로 이루어지게 됨\n",
    "    \n",
    "#     소문자 변환인 유용한 이유: 컴퓨터는 대문자와 소문자를 다르게\n",
    "#         인식하는데 소문자 변환을 해두면 검색시에 편하기 때문\n",
    "        \n",
    "#     무작정 통합은 X: \n",
    "#         Ex) 미국을 뜻하는 US랑 우리를 뜻하는 us는 다르기 때문에\n",
    "#         그리고 사람 이름 회사이름 같은 고유 명사는 대문자 유지\n",
    "        \n",
    "#     이러한 작업은 더 많은 변수를 사용해 언제 소문자 변환을 할지\n",
    "#     구분하는 머신 러닝 시퀀스 모델로 정확히 수행 가능\n",
    "    \n",
    "#     하지만 코퍼스 자체에서 대, 소문자가 뒤죽박죽이면 전체 소문자\n",
    "#     변환이 실용적 해결책이 되기도 함\n",
    "    "
   ]
  },
  {
   "cell_type": "code",
   "execution_count": 4,
   "id": "ea47c3e7",
   "metadata": {},
   "outputs": [],
   "source": [
    "# 3. 불필요 단어 제거: 노이즈 데이터는 자연어가 아니면서 무의미한 \n",
    "#     글자 등을 의미하기도 함, 하지만 분석 목적에 맞지 않는 단어들도\n",
    "#     노이즈 데이터라 하기도 함\n",
    "    \n",
    "#     분석 목적에 맞지 않는 노이즈 데이터 예시\n",
    "#     1. 등장 빈도가 적은 단어\n",
    "#     2. 길이가 짧은 단어:\n",
    "#         영어 단어의 평균 길이는 6~7 한국어는 2~3 \n",
    "#         영어에서 길이가 2~3 이하의 단어를 제거하는 것만으로 큰 의미\n",
    "#         를 가지지 못하는 단어를 줄이는 효과를 가짐\n",
    "#         Ex) a, i, it, at ...\n",
    "        \n",
    "    "
   ]
  },
  {
   "cell_type": "code",
   "execution_count": 10,
   "id": "8bf98202",
   "metadata": {},
   "outputs": [
    {
     "name": "stdout",
     "output_type": "stream",
     "text": [
      " was wondering anyone out there could enlighten this car.\n"
     ]
    }
   ],
   "source": [
    "#단어 제거 실습\n",
    "import re\n",
    "text = \"I was wondering if anyone out there could enlighten me on this car.\"\n",
    "\n",
    "# 길이가 1~2인 단어들을 정규 표현식을 이용하여 삭제\n",
    "shortword = re.compile(r'\\W*\\b\\w{1,2}\\b')\n",
    "\n",
    "# r': raw string을 의미\n",
    "#\\W:비단어 문자에 매치(ex 특수문자)\n",
    "#*: 앞의 패턴이 0번이상 반복될 수있음\n",
    "#\\w: 단어 문자에 매치(W와 반대)\n",
    "#{1,2}: 앞의 단어 문자가 1개 또는 2개로 이루어진 경우\n",
    "#\\b: 단어 경계로 끝남\n",
    "    \n",
    "print(shortword.sub('', text))"
   ]
  },
  {
   "cell_type": "code",
   "execution_count": null,
   "id": "1a6811ff",
   "metadata": {},
   "outputs": [],
   "source": [
    "# 4. 정규 표현식 많이 씀"
   ]
  }
 ],
 "metadata": {
  "kernelspec": {
   "display_name": "Python 3 (ipykernel)",
   "language": "python",
   "name": "python3"
  },
  "language_info": {
   "codemirror_mode": {
    "name": "ipython",
    "version": 3
   },
   "file_extension": ".py",
   "mimetype": "text/x-python",
   "name": "python",
   "nbconvert_exporter": "python",
   "pygments_lexer": "ipython3",
   "version": "3.9.12"
  }
 },
 "nbformat": 4,
 "nbformat_minor": 5
}
