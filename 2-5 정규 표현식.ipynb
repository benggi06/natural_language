{
 "cells": [
  {
   "cell_type": "code",
   "execution_count": 1,
   "id": "2f037348",
   "metadata": {},
   "outputs": [],
   "source": [
    "# 파이썬에는 정규 표현식 모듈 re지원 \n",
    "\n",
    "# 특수문자\n",
    "# . : 한개의 임의 문자 나타냄 (\\n 제외)\n",
    "# ? : 앞의 문자가 존재할 수도 있고 아닐수 있음 (문자가 0 or 1개 )\n",
    "# * : 앞의 문자가 무한개로 존재할수도 있고 아닐수 있음 (문자가 0개 이상)\n",
    "# + : 앞의 문자가 최소 한 개 이상 존재 (문자가 한 개 이상)\n",
    "# ^ : 뒤의 문자열로 문자열 시작\n",
    "# $ : 앞의 문자열로 문자열 종료\n",
    "# {숫자} : 숫자만큼 반복\n",
    "# {숫자1, 숫자2} : 숫자1 이상 숫자 2이하만큼 반복 ?, *, +로 대체 o\n",
    "# {숫자,} : 숫자 이상만큼 반복\n",
    "# [] : 대괄호 안의 문자들 중 한 개의 문자와 매치\n",
    "#     Ex) [amk]라고할 시  a,m,k 중 하나라도 존재하면 매치\n",
    "#     a-z: 소문자 a~z 즉 소문자 전체의미\n",
    "#     a-zA-Z 알파벳 전체 의미 -> 문자열에 알파벳 존재시 매치\n",
    "# [^문자] : 해당 문자를 제외한 문자 매치\n",
    "# l(엘) : alb 와 같이 사용하며 or의 의미를 가짐\n"
   ]
  },
  {
   "cell_type": "code",
   "execution_count": 2,
   "id": "51ba0a08",
   "metadata": {},
   "outputs": [],
   "source": [
    "# \\ 사용\n",
    "# \\\\\\ : 백슬래시 자체 의미\n",
    "# \\\\d : 모든 숫자 의미 [0-9]와 동일\n",
    "# \\\\D : 숫자를 제외한 모든 문자 의미 [^0-9]와 동일\n",
    "# \\\\s : 공백 의미 [ \\t\\n\\r\\f\\v]와 동일\n",
    "#     \\t (tab) : 수평 탭문자\n",
    "#     \\n (newline) : 줄바꿈 문자\n",
    "#     \\r (carrige return) : 캐리지 리턴 (커서를 줄의 시작 위치로 이동)\n",
    "#     \\f (form feed) : 폼 피드 (페이지를 나눌때 사용)\n",
    "#     \\v (vertical tab) : 수직 탭 문자\n",
    "# \\\\S : 공백을 제외한 문자 의미 [^ \\t\\n\\r\\f\\v]와 동일\n",
    "# \\\\w : 문자 또는 숫자 의미 [a-zA-Z0-9]와 동일\n",
    "# \\\\W : 문자 또는 숫자가 아닌 문자 의미 [^a-zA-Z0-9]와 동일"
   ]
  },
  {
   "cell_type": "code",
   "execution_count": 1,
   "id": "7cc008af",
   "metadata": {},
   "outputs": [],
   "source": [
    "import re\n",
    "# 정규 표현식 모듈 함수\n",
    "# re.compile() : 정규 표현식 컴파일 함수, 패턴이 빈번할 시 미리\n",
    "#     컴파일 하면 속도 편의성 둘다 유리\n",
    "\n",
    "# re.search() : 문자열 전체에서 정규 표현식과 매치되는지 검색\n",
    "    \n",
    "# re.match() : 문자열의 처음이 정규 표현식과 매치되는지  검색\n",
    "\n",
    "# re.split() : 정규 표현식 기준으로 문자열 분리 후 리스트로 리턴\n",
    "\n",
    "# re.findall() : 문자열에서 정규 표현식과 매치되는 모든 문자열을\n",
    "#     찾아 리스트로 리턴 없을시 빈 리스트\n",
    "\n",
    "# re.finditer() : 문자열에서 정규 표현식과 매치되는 모든 경우에 대해\n",
    "#     이터레이터(iterator) 객체를 리턴\n",
    "    \n",
    "#     이터레이터(iterator) : 반복 가능한 객체의 요소에 하나씩 접근할 때 사용함\n",
    "#         반복 가능한 객체란 리스트나 문자열 처럼 순회 가능한 객체\n",
    "#         를 의미\n",
    "\n",
    "# re.sub() : 문자열에서 정규 표현식과 일치하는 부분에 대해 다른 \n",
    "#     문자열로 대체\n",
    "\n"
   ]
  },
  {
   "cell_type": "code",
   "execution_count": 4,
   "id": "9107e3d0",
   "metadata": {},
   "outputs": [],
   "source": [
    "# 정규 표현식 실습\n",
    "\n",
    "# . : 한개의 임의 문자 나타냄 (\\n 제외)\n",
    "# a.c 라면 a와 c 사이에 어떤 1개의 문자라도 올 수 있음\n",
    "# ex) avc, anc, ajc ...\n",
    "r = re.compile(\"a.c\")\n",
    "r.search(\"kkk\")"
   ]
  },
  {
   "cell_type": "code",
   "execution_count": 5,
   "id": "af5b0619",
   "metadata": {},
   "outputs": [
    {
     "data": {
      "text/plain": [
       "<re.Match object; span=(0, 3), match='abc'>"
      ]
     },
     "execution_count": 5,
     "metadata": {},
     "output_type": "execute_result"
    }
   ],
   "source": [
    "r.search('abc')"
   ]
  },
  {
   "cell_type": "code",
   "execution_count": 11,
   "id": "3e725a87",
   "metadata": {},
   "outputs": [],
   "source": [
    "# ? : 앞의 문자가 존재할 수도 있고 아닐수 있음 (문자가 0 or 1개 )\n",
    "# ab?c 라면 b가 있다고 취급할 수도 있고 없다고 할수도 있음\n",
    "# abc, ac 모두 매치\n",
    "r = re.compile(\"ab?c\")\n",
    "r.search('abbc')"
   ]
  },
  {
   "cell_type": "code",
   "execution_count": 8,
   "id": "e5ef90ca",
   "metadata": {},
   "outputs": [
    {
     "data": {
      "text/plain": [
       "<re.Match object; span=(0, 3), match='abc'>"
      ]
     },
     "execution_count": 8,
     "metadata": {},
     "output_type": "execute_result"
    }
   ],
   "source": [
    "r.search('abc')"
   ]
  },
  {
   "cell_type": "code",
   "execution_count": 9,
   "id": "82ade1e7",
   "metadata": {},
   "outputs": [
    {
     "data": {
      "text/plain": [
       "<re.Match object; span=(0, 2), match='ac'>"
      ]
     },
     "execution_count": 9,
     "metadata": {},
     "output_type": "execute_result"
    }
   ],
   "source": [
    "r.search('ac')"
   ]
  },
  {
   "cell_type": "code",
   "execution_count": 12,
   "id": "e1d72b33",
   "metadata": {},
   "outputs": [],
   "source": [
    "#span은 문자열 길이를 의미하는듯"
   ]
  },
  {
   "cell_type": "code",
   "execution_count": 13,
   "id": "43170379",
   "metadata": {},
   "outputs": [],
   "source": [
    "# * : 앞의 문자가 무한개로 존재할수도 있고 아닐수 있음 (문자가 0개 이상)\n",
    "# ab*c라면 b가 몇개이던지 매치가 가능 0~ 무한\n",
    "\n",
    "r = re.compile('ab*c')\n",
    "r.search('a')"
   ]
  },
  {
   "cell_type": "code",
   "execution_count": 14,
   "id": "bcc5c2bb",
   "metadata": {},
   "outputs": [
    {
     "data": {
      "text/plain": [
       "<re.Match object; span=(0, 2), match='ac'>"
      ]
     },
     "execution_count": 14,
     "metadata": {},
     "output_type": "execute_result"
    }
   ],
   "source": [
    "r.search('ac')"
   ]
  },
  {
   "cell_type": "code",
   "execution_count": 15,
   "id": "884dad04",
   "metadata": {},
   "outputs": [
    {
     "data": {
      "text/plain": [
       "<re.Match object; span=(0, 36), match='abbbbbbbbbbbbbbbbbbbbbbbbbbbbbbbbbbc'>"
      ]
     },
     "execution_count": 15,
     "metadata": {},
     "output_type": "execute_result"
    }
   ],
   "source": [
    "r.search('abbbbbbbbbbbbbbbbbbbbbbbbbbbbbbbbbbc')"
   ]
  },
  {
   "cell_type": "code",
   "execution_count": 16,
   "id": "0b0c3dec",
   "metadata": {},
   "outputs": [],
   "source": [
    "# + : 앞의 문자가 최소 한 개 이상 존재 (문자가 한 개 이상)\n",
    "# *와 유사하나 +는 앞의 문자가 최소 1개 이상이어야함\n",
    "# ab+c: ac 매치 x , abc와 매치 o\n",
    "r = re.compile('ab+c')\n",
    "r.search('ac')"
   ]
  },
  {
   "cell_type": "code",
   "execution_count": 17,
   "id": "d6019e00",
   "metadata": {},
   "outputs": [
    {
     "data": {
      "text/plain": [
       "<re.Match object; span=(0, 3), match='abc'>"
      ]
     },
     "execution_count": 17,
     "metadata": {},
     "output_type": "execute_result"
    }
   ],
   "source": [
    "r.search('abc')"
   ]
  },
  {
   "cell_type": "code",
   "execution_count": 18,
   "id": "d9566d71",
   "metadata": {},
   "outputs": [],
   "source": [
    "# ^ : 뒤의 문자열로 문자열 시작\n",
    "# ^ab라면 ab로 시작되는 문자열 매치\n",
    "r = re.compile('^ab')\n",
    "r.search('bbc')\n",
    "r.search('zbc')"
   ]
  },
  {
   "cell_type": "code",
   "execution_count": 20,
   "id": "84c619d7",
   "metadata": {},
   "outputs": [
    {
     "data": {
      "text/plain": [
       "<re.Match object; span=(0, 2), match='ab'>"
      ]
     },
     "execution_count": 20,
     "metadata": {},
     "output_type": "execute_result"
    }
   ],
   "source": [
    "r.search('abc')"
   ]
  },
  {
   "cell_type": "code",
   "execution_count": 21,
   "id": "51171827",
   "metadata": {},
   "outputs": [],
   "source": [
    "# $ : 앞의 문자열로 문자열 종료\n",
    "r = re.compile('ab$')\n",
    "r.search('cba')"
   ]
  },
  {
   "cell_type": "code",
   "execution_count": 22,
   "id": "aad0efb5",
   "metadata": {},
   "outputs": [
    {
     "data": {
      "text/plain": [
       "<re.Match object; span=(1, 3), match='ab'>"
      ]
     },
     "execution_count": 22,
     "metadata": {},
     "output_type": "execute_result"
    }
   ],
   "source": [
    "r.search('cab')"
   ]
  },
  {
   "cell_type": "code",
   "execution_count": 24,
   "id": "b65d7738",
   "metadata": {},
   "outputs": [],
   "source": [
    "# {숫자} : 숫자만큼 반복\n",
    "# ab{2}c라면 a와c 사이 b가 존재하며 2개인 문자열에 대해 매치\n",
    "r = re.compile('ab{2}c')\n",
    "r.search('ac')\n",
    "r.search('abbbc')"
   ]
  },
  {
   "cell_type": "code",
   "execution_count": 25,
   "id": "ff94375a",
   "metadata": {},
   "outputs": [
    {
     "data": {
      "text/plain": [
       "<re.Match object; span=(0, 4), match='abbc'>"
      ]
     },
     "execution_count": 25,
     "metadata": {},
     "output_type": "execute_result"
    }
   ],
   "source": [
    "r.search('abbc')"
   ]
  },
  {
   "cell_type": "code",
   "execution_count": 26,
   "id": "efc53898",
   "metadata": {},
   "outputs": [],
   "source": [
    "# {숫자1, 숫자2} : 숫자1 이상 숫자 2이하만큼 반복 ?, *, +로 대체 o\n",
    "# ab{2,8}c 면 a,c사이에 b가 존재 하며 b가 2개 이상 8개 이하만 매치\n",
    "r = re.compile('ab{2,8}c')\n",
    "r.search('ac')\n",
    "r.search('abc')\n",
    "r.search('abbbbbbbbbbbbbbbbbbbbbbbbbbbbbbbc')"
   ]
  },
  {
   "cell_type": "code",
   "execution_count": 28,
   "id": "23f8edf0",
   "metadata": {},
   "outputs": [
    {
     "data": {
      "text/plain": [
       "<re.Match object; span=(0, 4), match='abbc'>"
      ]
     },
     "execution_count": 28,
     "metadata": {},
     "output_type": "execute_result"
    }
   ],
   "source": [
    "r.search('abbc')"
   ]
  },
  {
   "cell_type": "code",
   "execution_count": 29,
   "id": "702e4e6e",
   "metadata": {},
   "outputs": [
    {
     "data": {
      "text/plain": [
       "<re.Match object; span=(0, 10), match='abbbbbbbbc'>"
      ]
     },
     "execution_count": 29,
     "metadata": {},
     "output_type": "execute_result"
    }
   ],
   "source": [
    "r.search('abbbbbbbbc')"
   ]
  },
  {
   "cell_type": "code",
   "execution_count": 30,
   "id": "5150cf86",
   "metadata": {},
   "outputs": [],
   "source": [
    "# {숫자,} : 숫자 이상만큼 반복\n",
    "# a{2,}bc면 뒤에 bc가 붙으며 a가 2개 이상이 되어야함\n",
    "r = re.compile('a{2,}bc')\n",
    "r.search('bc')\n",
    "r.search('aa')"
   ]
  },
  {
   "cell_type": "code",
   "execution_count": 31,
   "id": "ed3cf1dd",
   "metadata": {},
   "outputs": [
    {
     "data": {
      "text/plain": [
       "<re.Match object; span=(0, 4), match='aabc'>"
      ]
     },
     "execution_count": 31,
     "metadata": {},
     "output_type": "execute_result"
    }
   ],
   "source": [
    "r.search('aabc')"
   ]
  },
  {
   "cell_type": "code",
   "execution_count": 32,
   "id": "7892b5ff",
   "metadata": {},
   "outputs": [
    {
     "data": {
      "text/plain": [
       "<re.Match object; span=(0, 22), match='aaaaaaaaaaaaaaaaaaaabc'>"
      ]
     },
     "execution_count": 32,
     "metadata": {},
     "output_type": "execute_result"
    }
   ],
   "source": [
    "r.search('aaaaaaaaaaaaaaaaaaaabc')"
   ]
  },
  {
   "cell_type": "code",
   "execution_count": 33,
   "id": "4629ac68",
   "metadata": {},
   "outputs": [],
   "source": [
    "# [] : 대괄호 안의 문자들 중 한 개의 문자와 매치\n",
    "# Ex) [amk]라고할 시  a,m,k 중 하나라도 존재하면 매치\n",
    "#     a-z: 소문자 a~z 즉 소문자 전체의미\n",
    "#     a-zA-Z 알파벳 전체 의미 -> 문자열에 알파벳 존재시 매치\n",
    "r = re.compile('[abc]')\n",
    "r.search('zzz')"
   ]
  },
  {
   "cell_type": "code",
   "execution_count": 34,
   "id": "a260236b",
   "metadata": {},
   "outputs": [
    {
     "data": {
      "text/plain": [
       "<re.Match object; span=(0, 1), match='a'>"
      ]
     },
     "execution_count": 34,
     "metadata": {},
     "output_type": "execute_result"
    }
   ],
   "source": [
    "r.search('a')"
   ]
  },
  {
   "cell_type": "code",
   "execution_count": 35,
   "id": "ee15817a",
   "metadata": {},
   "outputs": [
    {
     "data": {
      "text/plain": [
       "<re.Match object; span=(0, 1), match='b'>"
      ]
     },
     "execution_count": 35,
     "metadata": {},
     "output_type": "execute_result"
    }
   ],
   "source": [
    "r.search('b')"
   ]
  },
  {
   "cell_type": "code",
   "execution_count": 36,
   "id": "c3a8955a",
   "metadata": {},
   "outputs": [
    {
     "data": {
      "text/plain": [
       "<re.Match object; span=(0, 1), match='c'>"
      ]
     },
     "execution_count": 36,
     "metadata": {},
     "output_type": "execute_result"
    }
   ],
   "source": [
    "r.search('c')"
   ]
  },
  {
   "cell_type": "code",
   "execution_count": 37,
   "id": "93d632b1",
   "metadata": {},
   "outputs": [],
   "source": [
    "r.search('d')"
   ]
  },
  {
   "cell_type": "code",
   "execution_count": 38,
   "id": "fa33e12a",
   "metadata": {},
   "outputs": [],
   "source": [
    "r = re.compile('[a-z]')\n",
    "r.search('A')"
   ]
  },
  {
   "cell_type": "code",
   "execution_count": 39,
   "id": "da2a7b43",
   "metadata": {},
   "outputs": [
    {
     "data": {
      "text/plain": [
       "<re.Match object; span=(0, 1), match='a'>"
      ]
     },
     "execution_count": 39,
     "metadata": {},
     "output_type": "execute_result"
    }
   ],
   "source": [
    "r.search('a')"
   ]
  },
  {
   "cell_type": "code",
   "execution_count": 40,
   "id": "1b2579a0",
   "metadata": {},
   "outputs": [
    {
     "data": {
      "text/plain": [
       "<re.Match object; span=(0, 1), match='a'>"
      ]
     },
     "execution_count": 40,
     "metadata": {},
     "output_type": "execute_result"
    }
   ],
   "source": [
    "r.search('aBC')"
   ]
  },
  {
   "cell_type": "code",
   "execution_count": 42,
   "id": "688916db",
   "metadata": {},
   "outputs": [],
   "source": [
    "# [^문자] : 해당 문자를 제외한 문자 매치\n",
    "# ^abc면 abc가 들어간 문자 모두 배제\n",
    "r = re.compile('[^a-c]')\n",
    "r.search('a')\n",
    "r.search('abc')"
   ]
  },
  {
   "cell_type": "code",
   "execution_count": 43,
   "id": "dd3bad4d",
   "metadata": {},
   "outputs": [
    {
     "data": {
      "text/plain": [
       "<re.Match object; span=(0, 1), match='d'>"
      ]
     },
     "execution_count": 43,
     "metadata": {},
     "output_type": "execute_result"
    }
   ],
   "source": [
    "r.search('d')"
   ]
  },
  {
   "cell_type": "code",
   "execution_count": 44,
   "id": "b06e414d",
   "metadata": {},
   "outputs": [
    {
     "data": {
      "text/plain": [
       "<re.Match object; span=(0, 1), match='1'>"
      ]
     },
     "execution_count": 44,
     "metadata": {},
     "output_type": "execute_result"
    }
   ],
   "source": [
    "r.search('1')"
   ]
  },
  {
   "cell_type": "code",
   "execution_count": 3,
   "id": "c51df505",
   "metadata": {},
   "outputs": [],
   "source": [
    "# 정규 표현식 모듈 함수 예제\n",
    "# re.match(), re.search() 차이\n",
    "# search는 정규 표현식 전체에서 문자열이 매치하는 본다면 \n",
    "# match는 문자열 첫 부분 부터 매치하는지 확인\n",
    "\n",
    "# 문자열 중간에 찾을 패턴이 있더라도 match는 문자열 시작에서 패턴이\n",
    "# 불일치시 찾지 않음\n",
    "\n",
    "r = re.compile('ab.')\n",
    "r.match('kkkbc')"
   ]
  },
  {
   "cell_type": "code",
   "execution_count": 4,
   "id": "464c44a9",
   "metadata": {},
   "outputs": [
    {
     "data": {
      "text/plain": [
       "<re.Match object; span=(3, 6), match='abc'>"
      ]
     },
     "execution_count": 4,
     "metadata": {},
     "output_type": "execute_result"
    }
   ],
   "source": [
    "r.search('kkkabc')"
   ]
  },
  {
   "cell_type": "code",
   "execution_count": 5,
   "id": "4b8218d3",
   "metadata": {},
   "outputs": [
    {
     "data": {
      "text/plain": [
       "<re.Match object; span=(0, 3), match='abc'>"
      ]
     },
     "execution_count": 5,
     "metadata": {},
     "output_type": "execute_result"
    }
   ],
   "source": [
    "r.match('abckkk')"
   ]
  },
  {
   "cell_type": "code",
   "execution_count": 6,
   "id": "80257e37",
   "metadata": {},
   "outputs": [
    {
     "data": {
      "text/plain": [
       "['사과', '딸기', '수박', '메론', '바나나']"
      ]
     },
     "execution_count": 6,
     "metadata": {},
     "output_type": "execute_result"
    }
   ],
   "source": [
    "# re.split()\n",
    "# split 함수는 입력된 정규 표현식을 기준으로 문자열 분리 후 리스트로\n",
    "# 리턴 토큰화에 유용하게 사용\n",
    "#공백 기준 분리\n",
    "txt = '사과 딸기 수박 메론 바나나'\n",
    "re.split(' ',txt)"
   ]
  },
  {
   "cell_type": "code",
   "execution_count": 7,
   "id": "f13d5b32",
   "metadata": {},
   "outputs": [
    {
     "data": {
      "text/plain": [
       "['사과 ', '딸기 ', '수박 ', '메론 ', '바나나']"
      ]
     },
     "execution_count": 7,
     "metadata": {},
     "output_type": "execute_result"
    }
   ],
   "source": [
    "txt = '''사과 \n",
    "딸기 \n",
    "수박 \n",
    "메론 \n",
    "바나나'''\n",
    "re.split('\\n',txt)"
   ]
  },
  {
   "cell_type": "code",
   "execution_count": 8,
   "id": "6271b548",
   "metadata": {},
   "outputs": [
    {
     "data": {
      "text/plain": [
       "['사과', '딸기', '수박', '메론', '바나나']"
      ]
     },
     "execution_count": 8,
     "metadata": {},
     "output_type": "execute_result"
    }
   ],
   "source": [
    "txt = '사과+딸기+수박+메론+바나나'\n",
    "re.split('\\+',txt)"
   ]
  },
  {
   "cell_type": "code",
   "execution_count": 9,
   "id": "aa7baa57",
   "metadata": {},
   "outputs": [
    {
     "ename": "error",
     "evalue": "nothing to repeat at position 0",
     "output_type": "error",
     "traceback": [
      "\u001b[1;31m---------------------------------------------------------------------------\u001b[0m",
      "\u001b[1;31merror\u001b[0m                                     Traceback (most recent call last)",
      "Cell \u001b[1;32mIn [9], line 2\u001b[0m\n\u001b[0;32m      1\u001b[0m txt \u001b[38;5;241m=\u001b[39m \u001b[38;5;124m'\u001b[39m\u001b[38;5;124m사과+딸기+수박+메론+바나나\u001b[39m\u001b[38;5;124m'\u001b[39m\n\u001b[1;32m----> 2\u001b[0m \u001b[43mre\u001b[49m\u001b[38;5;241;43m.\u001b[39;49m\u001b[43msplit\u001b[49m\u001b[43m(\u001b[49m\u001b[38;5;124;43m'\u001b[39;49m\u001b[38;5;124;43m+\u001b[39;49m\u001b[38;5;124;43m'\u001b[39;49m\u001b[43m,\u001b[49m\u001b[43mtxt\u001b[49m\u001b[43m)\u001b[49m\n",
      "File \u001b[1;32m~\\anaconda3\\lib\\re.py:231\u001b[0m, in \u001b[0;36msplit\u001b[1;34m(pattern, string, maxsplit, flags)\u001b[0m\n\u001b[0;32m    223\u001b[0m \u001b[38;5;28;01mdef\u001b[39;00m \u001b[38;5;21msplit\u001b[39m(pattern, string, maxsplit\u001b[38;5;241m=\u001b[39m\u001b[38;5;241m0\u001b[39m, flags\u001b[38;5;241m=\u001b[39m\u001b[38;5;241m0\u001b[39m):\n\u001b[0;32m    224\u001b[0m     \u001b[38;5;124;03m\"\"\"Split the source string by the occurrences of the pattern,\u001b[39;00m\n\u001b[0;32m    225\u001b[0m \u001b[38;5;124;03m    returning a list containing the resulting substrings.  If\u001b[39;00m\n\u001b[0;32m    226\u001b[0m \u001b[38;5;124;03m    capturing parentheses are used in pattern, then the text of all\u001b[39;00m\n\u001b[1;32m   (...)\u001b[0m\n\u001b[0;32m    229\u001b[0m \u001b[38;5;124;03m    and the remainder of the string is returned as the final element\u001b[39;00m\n\u001b[0;32m    230\u001b[0m \u001b[38;5;124;03m    of the list.\"\"\"\u001b[39;00m\n\u001b[1;32m--> 231\u001b[0m     \u001b[38;5;28;01mreturn\u001b[39;00m \u001b[43m_compile\u001b[49m\u001b[43m(\u001b[49m\u001b[43mpattern\u001b[49m\u001b[43m,\u001b[49m\u001b[43m \u001b[49m\u001b[43mflags\u001b[49m\u001b[43m)\u001b[49m\u001b[38;5;241m.\u001b[39msplit(string, maxsplit)\n",
      "File \u001b[1;32m~\\anaconda3\\lib\\re.py:304\u001b[0m, in \u001b[0;36m_compile\u001b[1;34m(pattern, flags)\u001b[0m\n\u001b[0;32m    302\u001b[0m \u001b[38;5;28;01mif\u001b[39;00m \u001b[38;5;129;01mnot\u001b[39;00m sre_compile\u001b[38;5;241m.\u001b[39misstring(pattern):\n\u001b[0;32m    303\u001b[0m     \u001b[38;5;28;01mraise\u001b[39;00m \u001b[38;5;167;01mTypeError\u001b[39;00m(\u001b[38;5;124m\"\u001b[39m\u001b[38;5;124mfirst argument must be string or compiled pattern\u001b[39m\u001b[38;5;124m\"\u001b[39m)\n\u001b[1;32m--> 304\u001b[0m p \u001b[38;5;241m=\u001b[39m \u001b[43msre_compile\u001b[49m\u001b[38;5;241;43m.\u001b[39;49m\u001b[43mcompile\u001b[49m\u001b[43m(\u001b[49m\u001b[43mpattern\u001b[49m\u001b[43m,\u001b[49m\u001b[43m \u001b[49m\u001b[43mflags\u001b[49m\u001b[43m)\u001b[49m\n\u001b[0;32m    305\u001b[0m \u001b[38;5;28;01mif\u001b[39;00m \u001b[38;5;129;01mnot\u001b[39;00m (flags \u001b[38;5;241m&\u001b[39m DEBUG):\n\u001b[0;32m    306\u001b[0m     \u001b[38;5;28;01mif\u001b[39;00m \u001b[38;5;28mlen\u001b[39m(_cache) \u001b[38;5;241m>\u001b[39m\u001b[38;5;241m=\u001b[39m _MAXCACHE:\n\u001b[0;32m    307\u001b[0m         \u001b[38;5;66;03m# Drop the oldest item\u001b[39;00m\n",
      "File \u001b[1;32m~\\anaconda3\\lib\\sre_compile.py:764\u001b[0m, in \u001b[0;36mcompile\u001b[1;34m(p, flags)\u001b[0m\n\u001b[0;32m    762\u001b[0m \u001b[38;5;28;01mif\u001b[39;00m isstring(p):\n\u001b[0;32m    763\u001b[0m     pattern \u001b[38;5;241m=\u001b[39m p\n\u001b[1;32m--> 764\u001b[0m     p \u001b[38;5;241m=\u001b[39m \u001b[43msre_parse\u001b[49m\u001b[38;5;241;43m.\u001b[39;49m\u001b[43mparse\u001b[49m\u001b[43m(\u001b[49m\u001b[43mp\u001b[49m\u001b[43m,\u001b[49m\u001b[43m \u001b[49m\u001b[43mflags\u001b[49m\u001b[43m)\u001b[49m\n\u001b[0;32m    765\u001b[0m \u001b[38;5;28;01melse\u001b[39;00m:\n\u001b[0;32m    766\u001b[0m     pattern \u001b[38;5;241m=\u001b[39m \u001b[38;5;28;01mNone\u001b[39;00m\n",
      "File \u001b[1;32m~\\anaconda3\\lib\\sre_parse.py:950\u001b[0m, in \u001b[0;36mparse\u001b[1;34m(str, flags, state)\u001b[0m\n\u001b[0;32m    947\u001b[0m state\u001b[38;5;241m.\u001b[39mstr \u001b[38;5;241m=\u001b[39m \u001b[38;5;28mstr\u001b[39m\n\u001b[0;32m    949\u001b[0m \u001b[38;5;28;01mtry\u001b[39;00m:\n\u001b[1;32m--> 950\u001b[0m     p \u001b[38;5;241m=\u001b[39m \u001b[43m_parse_sub\u001b[49m\u001b[43m(\u001b[49m\u001b[43msource\u001b[49m\u001b[43m,\u001b[49m\u001b[43m \u001b[49m\u001b[43mstate\u001b[49m\u001b[43m,\u001b[49m\u001b[43m \u001b[49m\u001b[43mflags\u001b[49m\u001b[43m \u001b[49m\u001b[38;5;241;43m&\u001b[39;49m\u001b[43m \u001b[49m\u001b[43mSRE_FLAG_VERBOSE\u001b[49m\u001b[43m,\u001b[49m\u001b[43m \u001b[49m\u001b[38;5;241;43m0\u001b[39;49m\u001b[43m)\u001b[49m\n\u001b[0;32m    951\u001b[0m \u001b[38;5;28;01mexcept\u001b[39;00m Verbose:\n\u001b[0;32m    952\u001b[0m     \u001b[38;5;66;03m# the VERBOSE flag was switched on inside the pattern.  to be\u001b[39;00m\n\u001b[0;32m    953\u001b[0m     \u001b[38;5;66;03m# on the safe side, we'll parse the whole thing again...\u001b[39;00m\n\u001b[0;32m    954\u001b[0m     state \u001b[38;5;241m=\u001b[39m State()\n",
      "File \u001b[1;32m~\\anaconda3\\lib\\sre_parse.py:443\u001b[0m, in \u001b[0;36m_parse_sub\u001b[1;34m(source, state, verbose, nested)\u001b[0m\n\u001b[0;32m    441\u001b[0m start \u001b[38;5;241m=\u001b[39m source\u001b[38;5;241m.\u001b[39mtell()\n\u001b[0;32m    442\u001b[0m \u001b[38;5;28;01mwhile\u001b[39;00m \u001b[38;5;28;01mTrue\u001b[39;00m:\n\u001b[1;32m--> 443\u001b[0m     itemsappend(\u001b[43m_parse\u001b[49m\u001b[43m(\u001b[49m\u001b[43msource\u001b[49m\u001b[43m,\u001b[49m\u001b[43m \u001b[49m\u001b[43mstate\u001b[49m\u001b[43m,\u001b[49m\u001b[43m \u001b[49m\u001b[43mverbose\u001b[49m\u001b[43m,\u001b[49m\u001b[43m \u001b[49m\u001b[43mnested\u001b[49m\u001b[43m \u001b[49m\u001b[38;5;241;43m+\u001b[39;49m\u001b[43m \u001b[49m\u001b[38;5;241;43m1\u001b[39;49m\u001b[43m,\u001b[49m\n\u001b[0;32m    444\u001b[0m \u001b[43m                       \u001b[49m\u001b[38;5;129;43;01mnot\u001b[39;49;00m\u001b[43m \u001b[49m\u001b[43mnested\u001b[49m\u001b[43m \u001b[49m\u001b[38;5;129;43;01mand\u001b[39;49;00m\u001b[43m \u001b[49m\u001b[38;5;129;43;01mnot\u001b[39;49;00m\u001b[43m \u001b[49m\u001b[43mitems\u001b[49m\u001b[43m)\u001b[49m)\n\u001b[0;32m    445\u001b[0m     \u001b[38;5;28;01mif\u001b[39;00m \u001b[38;5;129;01mnot\u001b[39;00m sourcematch(\u001b[38;5;124m\"\u001b[39m\u001b[38;5;124m|\u001b[39m\u001b[38;5;124m\"\u001b[39m):\n\u001b[0;32m    446\u001b[0m         \u001b[38;5;28;01mbreak\u001b[39;00m\n",
      "File \u001b[1;32m~\\anaconda3\\lib\\sre_parse.py:668\u001b[0m, in \u001b[0;36m_parse\u001b[1;34m(source, state, verbose, nested, first)\u001b[0m\n\u001b[0;32m    666\u001b[0m     item \u001b[38;5;241m=\u001b[39m \u001b[38;5;28;01mNone\u001b[39;00m\n\u001b[0;32m    667\u001b[0m \u001b[38;5;28;01mif\u001b[39;00m \u001b[38;5;129;01mnot\u001b[39;00m item \u001b[38;5;129;01mor\u001b[39;00m item[\u001b[38;5;241m0\u001b[39m][\u001b[38;5;241m0\u001b[39m] \u001b[38;5;129;01mis\u001b[39;00m AT:\n\u001b[1;32m--> 668\u001b[0m     \u001b[38;5;28;01mraise\u001b[39;00m source\u001b[38;5;241m.\u001b[39merror(\u001b[38;5;124m\"\u001b[39m\u001b[38;5;124mnothing to repeat\u001b[39m\u001b[38;5;124m\"\u001b[39m,\n\u001b[0;32m    669\u001b[0m                        source\u001b[38;5;241m.\u001b[39mtell() \u001b[38;5;241m-\u001b[39m here \u001b[38;5;241m+\u001b[39m \u001b[38;5;28mlen\u001b[39m(this))\n\u001b[0;32m    670\u001b[0m \u001b[38;5;28;01mif\u001b[39;00m item[\u001b[38;5;241m0\u001b[39m][\u001b[38;5;241m0\u001b[39m] \u001b[38;5;129;01min\u001b[39;00m _REPEATCODES:\n\u001b[0;32m    671\u001b[0m     \u001b[38;5;28;01mraise\u001b[39;00m source\u001b[38;5;241m.\u001b[39merror(\u001b[38;5;124m\"\u001b[39m\u001b[38;5;124mmultiple repeat\u001b[39m\u001b[38;5;124m\"\u001b[39m,\n\u001b[0;32m    672\u001b[0m                        source\u001b[38;5;241m.\u001b[39mtell() \u001b[38;5;241m-\u001b[39m here \u001b[38;5;241m+\u001b[39m \u001b[38;5;28mlen\u001b[39m(this))\n",
      "\u001b[1;31merror\u001b[0m: nothing to repeat at position 0"
     ]
    }
   ],
   "source": [
    "txt = '사과+딸기+수박+메론+바나나'\n",
    "re.split('+',txt)#특수문자라 백슬래시 필요"
   ]
  },
  {
   "cell_type": "code",
   "execution_count": 10,
   "id": "5c85fc58",
   "metadata": {},
   "outputs": [
    {
     "data": {
      "text/plain": [
       "['010', '6484', '3384', '23']"
      ]
     },
     "execution_count": 10,
     "metadata": {},
     "output_type": "execute_result"
    }
   ],
   "source": [
    "# re.findall() : 문자열에서 정규 표현식과 매치되는 모든 문자열을\n",
    "#     찾아 리스트로 리턴 없을시 빈 리스트\n",
    "txt = '''\n",
    "이름 : 이선호\n",
    "전화번호 : 010 - 6484 - 3384\n",
    "나이 : 23\n",
    "성별 : 알수없음\n",
    "'''\n",
    "re.findall('\\d+',txt)#정수인 숫자가 하나라도 있으면 매치"
   ]
  },
  {
   "cell_type": "code",
   "execution_count": 11,
   "id": "85e07496",
   "metadata": {},
   "outputs": [
    {
     "data": {
      "text/plain": [
       "[]"
      ]
     },
     "execution_count": 11,
     "metadata": {},
     "output_type": "execute_result"
    }
   ],
   "source": [
    "re.findall('\\d+','뻐큐')"
   ]
  },
  {
   "cell_type": "code",
   "execution_count": 15,
   "id": "bf9aefe3",
   "metadata": {},
   "outputs": [
    {
     "name": "stdout",
     "output_type": "stream",
     "text": [
      "Regular expression   A regular expression  regex or regexp     sometimes called a rational expression        is  in theoretical computer science and formal language theory  a sequence of characters that define a search pattern \n"
     ]
    }
   ],
   "source": [
    "# re.sub() : 문자열에서 정규 표현식과 일치하는 부분에 대해 다른 \n",
    "#     문자열로 대체\n",
    "# 정제 작업에 사용\n",
    "text = \"Regular expression : A regular expression, regex or regexp[1] (sometimes called a rational expression)[2][3] is, in theoretical computer science and formal language theory, a sequence of characters that define a search pattern.\"\n",
    "\n",
    "preprocessed_txt = re.sub('[^a-zA-Z]',' ', text)\n",
    "#알파벳이 아닌 것들을 모두 공백으로 전환\n",
    "print(preprocessed_txt)"
   ]
  },
  {
   "cell_type": "code",
   "execution_count": 16,
   "id": "81ff1797",
   "metadata": {},
   "outputs": [
    {
     "data": {
      "text/plain": [
       "['100', 'John', 'PROF', '101', 'James', 'STUD', '102', 'Mac', 'STUD']"
      ]
     },
     "execution_count": 16,
     "metadata": {},
     "output_type": "execute_result"
    }
   ],
   "source": [
    "#정규 표현식 텍스트 전처리 예제\n",
    "text = \"\"\"100 John    PROF\n",
    "101 James   STUD\n",
    "102 Mac   STUD\"\"\"\n",
    "re.split('\\s+',text)\n",
    "#공백이 1개 이상 존재 시 분리(\\s는 공백을 의미함)\n"
   ]
  },
  {
   "cell_type": "code",
   "execution_count": 18,
   "id": "bdfe5d34",
   "metadata": {},
   "outputs": [
    {
     "data": {
      "text/plain": [
       "['100', '101', '102']"
      ]
     },
     "execution_count": 18,
     "metadata": {},
     "output_type": "execute_result"
    }
   ],
   "source": [
    "re.findall('\\d+',text)\n",
    "#정수가 1개 이상 존재시 매치"
   ]
  },
  {
   "cell_type": "code",
   "execution_count": 19,
   "id": "d8a27c73",
   "metadata": {},
   "outputs": [
    {
     "data": {
      "text/plain": [
       "['J', 'P', 'R', 'O', 'F', 'J', 'S', 'T', 'U', 'D', 'M', 'S', 'T', 'U', 'D']"
      ]
     },
     "execution_count": 19,
     "metadata": {},
     "output_type": "execute_result"
    }
   ],
   "source": [
    "re.findall('[A-Z]',text)"
   ]
  },
  {
   "cell_type": "code",
   "execution_count": 21,
   "id": "83109398",
   "metadata": {},
   "outputs": [
    {
     "data": {
      "text/plain": [
       "['PROF', 'STUD', 'STUD']"
      ]
     },
     "execution_count": 21,
     "metadata": {},
     "output_type": "execute_result"
    }
   ],
   "source": [
    "re.findall('[A-Z]{4}',text)\n",
    "#대문자가 연속 4반 나오는 문자열 가져오기"
   ]
  },
  {
   "cell_type": "code",
   "execution_count": 22,
   "id": "fb6110e6",
   "metadata": {},
   "outputs": [
    {
     "data": {
      "text/plain": [
       "['John', 'James', 'Mac']"
      ]
     },
     "execution_count": 22,
     "metadata": {},
     "output_type": "execute_result"
    }
   ],
   "source": [
    "re.findall('[A-Z][a-z]+',text)\n",
    "#대문자가 나오고 뒤에 소문자가 1개이상 있는 문자열 가져오기"
   ]
  },
  {
   "cell_type": "code",
   "execution_count": 23,
   "id": "59fc4c71",
   "metadata": {},
   "outputs": [
    {
     "name": "stdout",
     "output_type": "stream",
     "text": [
      "['Don', 't', 'be', 'fooled', 'by', 'the', 'dark', 'sounding', 'name', 'Mr', 'Jone', 's', 'Orphanage', 'is', 'as', 'cheery', 'as', 'cheery', 'goes', 'for', 'a', 'pastry', 'shop'] \n",
      "\n",
      "[\"Don't\", 'be', 'fooled', 'by', 'the', 'dark', 'sounding', 'name,', 'Mr.', \"Jone's\", 'Orphanage', 'is', 'as', 'cheery', 'as', 'cheery', 'goes', 'for', 'a', 'pastry', 'shop']\n"
     ]
    }
   ],
   "source": [
    "# NLTK에서 정규표현식을 사용해 단어 토큰화를 수행하는 RegexpTokenizer\n",
    "# 지원 RegexpTokenizer()은 괄호 안에 하나의 토큰으로 규정하기 원하는\n",
    "# 정규 표현식을 넣어 토큰화 진행\n",
    "\n",
    "from nltk.tokenize import RegexpTokenizer\n",
    "text = \"Don't be fooled by the dark sounding name, Mr. Jone's Orphanage is as cheery as cheery goes for a pastry shop\"\n",
    "\n",
    "tokenizer1 = RegexpTokenizer('[\\w]+')\n",
    "# \\w : 문자 또는 숫자가 1개이상-> 특수문자 제외\n",
    "tokenizer2 = RegexpTokenizer('\\s+',gaps=True)    \n",
    "#gaps = True : 해당 정규 표현식을 토큰으로 나누기 위한 기준으로 사용함\n",
    "\n",
    "print(tokenizer1.tokenize(text),'\\n')\n",
    "print(tokenizer2.tokenize(text))"
   ]
  },
  {
   "cell_type": "code",
   "execution_count": null,
   "id": "fd2a7ddf",
   "metadata": {},
   "outputs": [],
   "source": []
  }
 ],
 "metadata": {
  "kernelspec": {
   "display_name": "Python 3 (ipykernel)",
   "language": "python",
   "name": "python3"
  },
  "language_info": {
   "codemirror_mode": {
    "name": "ipython",
    "version": 3
   },
   "file_extension": ".py",
   "mimetype": "text/x-python",
   "name": "python",
   "nbconvert_exporter": "python",
   "pygments_lexer": "ipython3",
   "version": "3.9.12"
  }
 },
 "nbformat": 4,
 "nbformat_minor": 5
}
