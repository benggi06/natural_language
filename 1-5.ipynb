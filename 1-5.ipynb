{
 "cells": [
  {
   "cell_type": "code",
   "execution_count": 1,
   "id": "d69192e7",
   "metadata": {},
   "outputs": [],
   "source": [
    "#머신러닝 워크플로우\n",
    "# 1.수집(Acquisition):\n",
    "#     머신러닝을 위해서는 기계에 학습시켜야할 데이터 필요\n",
    "#     자연어 처리의 경우 자연어 데이터를 말뭉치 or 코퍼스라 부름\n",
    "#     corpus: 조사나 연구 목적에 의해서 특정 도메인으로부터 수집된\n",
    "#         텍스트의 집합\n",
    "    "
   ]
  },
  {
   "cell_type": "code",
   "execution_count": 3,
   "id": "9841b56f",
   "metadata": {},
   "outputs": [],
   "source": [
    "# 2.점검 및 탐색(Inspection and exploration):\n",
    "# 데이터가 수집되었으면 점검 및 탐색이 필요, \n",
    "# 데이터 구조, 노이즈 데이터, 머신 러닝 적용을위한 정제 방법 파악\n",
    "# 이 단계를 탐색적 데이터 분석 단계(EDA) 라고도함\n",
    "# 독립, 종속변수, 변수유형, 변수의 데이터 타입등을 점검해 데이터 특징과\n",
    "# 구조적 관계를 알아내는 과정\n",
    "# 시각화, 간단한 통계 테스트를 진행하기도 함"
   ]
  },
  {
   "cell_type": "code",
   "execution_count": 4,
   "id": "b0e71545",
   "metadata": {},
   "outputs": [],
   "source": [
    "# 3. 전처리 및 정제(preprocessing and cleaning):\n",
    "#     자연어 처리시 토큰화, 정제, 정규화, 불용어 제거등의 단계를 포함\n",
    "#     전처리 과정이 까다로울 시 머신 러닝 사용하기도 함\n"
   ]
  },
  {
   "cell_type": "code",
   "execution_count": 6,
   "id": "dd925895",
   "metadata": {},
   "outputs": [],
   "source": [
    "# 4. 모델링 및 훈련(Modeling and Traning):\n",
    "#     머신러닝 코드를 작성하는 모델링 단계\n",
    "#     모델링이 끝나면 전처리가끝난 데이터를 기계에 학습 시킨다.\n",
    "#     이를 훈련이라고도 함\n",
    "#     이후 기계는 우리가 원하는 task인 기계 번역, 음성 인식, \n",
    "#     텍스트 분류 등의 자연어 처리 작업을 수행 가능\n",
    "    \n",
    "#     주의 할 점은 모든 데이터를 기계에 학습시켜선 x\n",
    "#     일부는 테스트용으로 남겨두고 훈련용 데이터에만 훈련에 사용\n",
    "#     그래야 학습 후 남은 테스트용 데이터를 통해 현재 성능을 파악 가능\n",
    "#     과적합(overfitting) 방지 가능\n",
    "\n",
    "# 최적의 방법은 훈련용, 검증용, 테스트용 데이터 이 세가지로 나누는게 \n",
    "# 적절\n",
    "\n",
    "# 검증용 데이터는 현 모델의 성능. 즉 기계가 훈련용 데이터로 얼마나 \n",
    "# 학습되었는지 판단하는 용도로 훈련후의 기계 성능을 개선하는데 사용\n",
    "\n",
    "# 테스트용 데이터는 모델의 성능을 수치화하여 파악하기 위한 용도로 사용\n"
   ]
  },
  {
   "cell_type": "code",
   "execution_count": 7,
   "id": "94cc228b",
   "metadata": {},
   "outputs": [],
   "source": [
    "# 5. 평가(Evaluation):\n",
    "#     테스트용 데이터로 성능을 평가하게 됨 평가 방법은 기계가\n",
    "#     예측한 데이터가 테스트 데이터의 실 정답과 얼마나 가까운지\n",
    "#     측정\n",
    "#     이 단계에서 성능이 낮을 시 모델링 및 훈련 단계로 돌아갈 수 \n",
    "#     있음"
   ]
  },
  {
   "cell_type": "code",
   "execution_count": null,
   "id": "3819ee7a",
   "metadata": {},
   "outputs": [],
   "source": [
    "# 6. 배포(Deplyment):\n",
    "#     훈련이 성공적으로 수행되었다 판단시 완성 모델을 배포하는 단계\n",
    "#     피드백 수립시 모델을 업데이트 해야하는 상황이 생길시 수집단계로\n",
    "#     돌아갈 수 있음"
   ]
  }
 ],
 "metadata": {
  "kernelspec": {
   "display_name": "Python 3 (ipykernel)",
   "language": "python",
   "name": "python3"
  },
  "language_info": {
   "codemirror_mode": {
    "name": "ipython",
    "version": 3
   },
   "file_extension": ".py",
   "mimetype": "text/x-python",
   "name": "python",
   "nbconvert_exporter": "python",
   "pygments_lexer": "ipython3",
   "version": "3.9.12"
  }
 },
 "nbformat": 4,
 "nbformat_minor": 5
}
